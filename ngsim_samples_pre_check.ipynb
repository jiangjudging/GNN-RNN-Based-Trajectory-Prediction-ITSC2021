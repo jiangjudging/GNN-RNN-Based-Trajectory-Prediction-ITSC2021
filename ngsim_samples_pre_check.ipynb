{
 "cells": [
  {
   "cell_type": "code",
   "execution_count": 1,
   "metadata": {},
   "outputs": [
    {
     "name": "stdout",
     "output_type": "stream",
     "text": [
      "The number of lane change scenario: 320046\n",
      "The number of no lane change scenario: 7299618\n",
      "The ratio of lc to no_lc: 0.043844212121785006\n"
     ]
    }
   ],
   "source": [
    "import pickle,random\n",
    "with open(\"ngsim_samples_list/ngsim_samples\", \"rb\") as fp:  # Unpickling\n",
    "        samples_list = pickle.load(fp)\n",
    "lc_samples = [i for i in samples_list if i[3] == 1]\n",
    "no_lc_samples = [i for i in samples_list if i[3] == 0]\n",
    "\n",
    "print(f\"The number of lane change scenario: {len(lc_samples)}\")\n",
    "print(f\"The number of no lane change scenario: {len(no_lc_samples)}\")\n",
    "print(f\"The ratio of lc to no_lc: {len(lc_samples)/len(no_lc_samples)}\")\n"
   ]
  },
  {
   "cell_type": "code",
   "execution_count": 8,
   "metadata": {},
   "outputs": [],
   "source": [
    "from sklearn.model_selection import train_test_split\n",
    "from ngsim_dataset import NgsimDataset\n",
    "from torch_geometric.loader import DataLoader\n",
    "import torch\n",
    "import pickle,random\n",
    "\n",
    "lc_samples_file = \"ngsim_samples_list/ngsim_lc_samples\"\n",
    "no_lc_samples_file = \"ngsim_samples_list/ngsim_no_lc_samples\"\n",
    "\n",
    "with open(lc_samples_file, \"rb\") as fp:  # Unpickling\n",
    "    lc_samples_list = pickle.load(fp)\n",
    "\n",
    "with open(no_lc_samples_file, \"rb\") as fp:  # Unpickling\n",
    "    no_lc_samples_list = pickle.load(fp)\n",
    "\n",
    "lc_samples_train, lc_samples_val = train_test_split(lc_samples_list, test_size=0.1, random_state=42)\n",
    "no_lc_samples_train, no_lc_samples_val = train_test_split(no_lc_samples_list, test_size=0.1, random_state=42)\n",
    "\n",
    "samples_train = lc_samples_train + no_lc_samples_train\n",
    "samples_val = lc_samples_val + no_lc_samples_val\n",
    "\n",
    "with open(f\"ngsim_samples_list/ngsim_samples_train\", \"wb\") as fp:  #Pickling\n",
    "    pickle.dump(samples_train, fp)\n",
    "    \n",
    "with open(f\"ngsim_samples_list/ngsim_samples_val\", \"wb\") as fp:  #Pickling\n",
    "    pickle.dump(samples_val, fp)\n",
    "\n",
    "# train_set = NgsimDataset(samples_train)\n",
    "# val_set = NgsimDataset(samples_val)\n",
    "\n",
    "# torch.set_num_threads(4)\n",
    "# trainDataloader = DataLoader(train_set, batch_size=16, shuffle=True, num_workers=4, pin_memory=True)\n",
    "# valDataloader = DataLoader(val_set, batch_size=16, shuffle=True, num_workers=4, pin_memory=True)"
   ]
  },
  {
   "cell_type": "code",
   "execution_count": 2,
   "metadata": {},
   "outputs": [
    {
     "name": "stdout",
     "output_type": "stream",
     "text": [
      "0\n",
      "1\n",
      "0\n",
      "0\n",
      "0\n",
      "0\n",
      "1\n",
      "0\n",
      "0\n",
      "0\n",
      "0\n",
      "0\n",
      "0\n",
      "0\n",
      "0\n",
      "0\n",
      "0\n",
      "0\n",
      "0\n",
      "0\n"
     ]
    }
   ],
   "source": [
    "rd_samples_train = random.sample(samples_train, 20)\n",
    "for lc_sample in rd_samples_train:\n",
    "    print(lc_sample[3])"
   ]
  },
  {
   "cell_type": "code",
   "execution_count": 7,
   "metadata": {},
   "outputs": [
    {
     "name": "stdout",
     "output_type": "stream",
     "text": [
      "torch.Size([1, 10])\n",
      "torch.Size([16, 1])\n"
     ]
    }
   ],
   "source": [
    "import torch\n",
    "weight = torch.arange(10, 0, -1) / 55\n",
    "weight = weight.unsqueeze(0).cuda()\n",
    "print(weight.shape)\n",
    "\n",
    "lc_mask = np.zeros(16)\n",
    "lc_mask[3] = 1\n",
    "lc_mask[8] = 1\n",
    "lc_weight = [1 if i==0 else 1/lc_ratio for i in lc_mask]\n",
    "lc_weight = torch.tensor(lc_weight).unsqueeze(1).cuda()\n",
    "print(lc_weight.shape)\n"
   ]
  },
  {
   "cell_type": "code",
   "execution_count": 3,
   "metadata": {},
   "outputs": [
    {
     "name": "stdout",
     "output_type": "stream",
     "text": [
      "(16, 10, 2)\n",
      "(16, 10)\n",
      "[[ 1.        ]\n",
      " [ 1.        ]\n",
      " [ 1.        ]\n",
      " [22.83105023]\n",
      " [ 1.        ]\n",
      " [ 1.        ]\n",
      " [ 1.        ]\n",
      " [ 1.        ]\n",
      " [22.83105023]\n",
      " [ 1.        ]\n",
      " [ 1.        ]\n",
      " [ 1.        ]\n",
      " [ 1.        ]\n",
      " [ 1.        ]\n",
      " [ 1.        ]\n",
      " [ 1.        ]]\n",
      "[[ 2.          2.          2.          2.          2.          2.\n",
      "   2.          2.          2.          2.        ]\n",
      " [ 2.          2.          2.          2.          2.          2.\n",
      "   2.          2.          2.          2.        ]\n",
      " [ 2.          2.          2.          2.          2.          2.\n",
      "   2.          2.          2.          2.        ]\n",
      " [45.66210046 45.66210046 45.66210046 45.66210046 45.66210046 45.66210046\n",
      "  45.66210046 45.66210046 45.66210046 45.66210046]\n",
      " [ 2.          2.          2.          2.          2.          2.\n",
      "   2.          2.          2.          2.        ]\n",
      " [ 2.          2.          2.          2.          2.          2.\n",
      "   2.          2.          2.          2.        ]\n",
      " [ 2.          2.          2.          2.          2.          2.\n",
      "   2.          2.          2.          2.        ]\n",
      " [ 2.          2.          2.          2.          2.          2.\n",
      "   2.          2.          2.          2.        ]\n",
      " [45.66210046 45.66210046 45.66210046 45.66210046 45.66210046 45.66210046\n",
      "  45.66210046 45.66210046 45.66210046 45.66210046]\n",
      " [ 2.          2.          2.          2.          2.          2.\n",
      "   2.          2.          2.          2.        ]\n",
      " [ 2.          2.          2.          2.          2.          2.\n",
      "   2.          2.          2.          2.        ]\n",
      " [ 2.          2.          2.          2.          2.          2.\n",
      "   2.          2.          2.          2.        ]\n",
      " [ 2.          2.          2.          2.          2.          2.\n",
      "   2.          2.          2.          2.        ]\n",
      " [ 2.          2.          2.          2.          2.          2.\n",
      "   2.          2.          2.          2.        ]\n",
      " [ 2.          2.          2.          2.          2.          2.\n",
      "   2.          2.          2.          2.        ]\n",
      " [ 2.          2.          2.          2.          2.          2.\n",
      "   2.          2.          2.          2.        ]]\n",
      "7.4577625570776265\n"
     ]
    }
   ],
   "source": [
    "import numpy as np\n",
    "y_pred = np.zeros((16,10,2))\n",
    "print(y_pred.shape)\n",
    "y_gt = y_pred + 1\n",
    "mask = np.ones_like(y_gt)\n",
    "lc_mask = np.zeros(16)\n",
    "lc_mask[3] = 1\n",
    "lc_mask[8] = 1\n",
    "\n",
    "lc_ratio = 0.0438\n",
    "acc = np.zeros_like(mask)\n",
    "muX = y_pred[:, :, 0]\n",
    "muY = y_pred[:, :, 1]\n",
    "x = y_gt[:, :, 0]\n",
    "y = y_gt[:, :, 1]\n",
    "out = np.power(x - muX, 2) + np.power(y - muY, 2)\n",
    "print(out.shape)\n",
    "# print(out.shape)\n",
    "# weight = np.arange(10, 0, -1) / 55\n",
    "# weight = weight.unsqueeze(0).cuda()\n",
    "# out *= weight\n",
    "\n",
    "# lc_weight = np.ones_like(lc_mask)\n",
    "lc_weight = [1 if i==0 else 1/lc_ratio for i in lc_mask]\n",
    "lc_weight = np.expand_dims(np.array(lc_weight),axis=1)\n",
    "# print(lc_mask)\n",
    "print(lc_weight)\n",
    "out *= lc_weight\n",
    "print(out)\n",
    "acc[:, :, 0] = out\n",
    "acc[:, :, 1] = out\n",
    "acc = acc * mask\n",
    "# print(acc)\n",
    "lossVal = np.sum(acc) / np.sum(mask)\n",
    "print(lossVal)\n"
   ]
  },
  {
   "cell_type": "code",
   "execution_count": 6,
   "metadata": {},
   "outputs": [],
   "source": [
    "with open(f\"ngsim_samples_list/ngsim_lc_samples\", \"wb\") as fp:  #Pickling\n",
    "    pickle.dump(lc_samples, fp)\n",
    "    \n",
    "with open(f\"ngsim_samples_list/ngsim_no_lc_samples\", \"wb\") as fp:  #Pickling\n",
    "    pickle.dump(no_lc_samples, fp)"
   ]
  },
  {
   "cell_type": "code",
   "execution_count": 2,
   "metadata": {},
   "outputs": [
    {
     "name": "stdout",
     "output_type": "stream",
     "text": [
      "[5, 2049, 911, 1, 927, 902, 926, 914, 907]\n",
      "[6, 7685, 1932, 1, 1933, 1924, 2002, 1972, 1915, 1956, 1941, 1934]\n",
      "[5, 3899, 1338, 1, 1368, 1358, 1345, 1333, 1329, 1373, 1367, 1352]\n",
      "[2, 9266, 2512, 1, 2517, 2507, 2499]\n",
      "[6, 2682, 491, 1, 3008, 3006, 534, 493, 484, 506, 494, 487]\n",
      "[5, 7312, 2513, 1, 2538, 2583, 2517, 2389, 2503, 2670, 2641, 2642]\n",
      "[5, 1111, 673, 1, 662, 650, 647, 701, 693]\n",
      "[4, 6121, 2126, 1, 2131, 2119, 2129, 2108, 2102, 2116, 2107, 2104]\n",
      "[3, 454, 4, 1, 8, 13, 5, 1]\n",
      "[4, 5905, 1933, 1, 1939, 1925, 1930, 1924, 1916, 1935, 1929, 1921]\n"
     ]
    }
   ],
   "source": [
    "rd_lc_samples = random.sample(lc_samples, 10)\n",
    "for lc_sample in rd_lc_samples:\n",
    "    print(lc_sample)"
   ]
  },
  {
   "cell_type": "code",
   "execution_count": 5,
   "metadata": {},
   "outputs": [
    {
     "name": "stdout",
     "output_type": "stream",
     "text": [
      "         Vehicle_ID  Frame_ID  Total_Frames    Global_Time  Local_X  Local_Y  \\\n",
      "1310788        2513      7282          1563  1113437495100   26.152  145.427   \n",
      "1310789        2513      7283          1563  1113437495200   26.078  146.632   \n",
      "1310790        2513      7284          1563  1113437495300   26.003  147.837   \n",
      "1310791        2513      7285          1563  1113437495400   25.930  149.041   \n",
      "1310792        2513      7286          1563  1113437495500   25.856  150.241   \n",
      "...             ...       ...           ...            ...      ...      ...   \n",
      "1310864        2513      7358          1563  1113437502700   30.944  204.172   \n",
      "1310865        2513      7359          1563  1113437502800   30.978  205.207   \n",
      "1310866        2513      7360          1563  1113437502900   31.012  206.242   \n",
      "1310867        2513      7361          1563  1113437503000   31.045  207.277   \n",
      "1310868        2513      7362          1563  1113437503100   31.079  208.310   \n",
      "\n",
      "            Global_X     Global_Y  v_Length  v_Width  v_Class  v_Vel  v_Acc  \\\n",
      "1310788  6042839.282  2133215.253      13.8      6.3        2  12.03   0.22   \n",
      "1310789  6042839.060  2133216.435      13.8      6.3        2  12.04   0.10   \n",
      "1310790  6042838.838  2133217.616      13.8      6.3        2  12.04  -0.11   \n",
      "1310791  6042838.617  2133218.798      13.8      6.3        2  12.02  -0.23   \n",
      "1310792  6042838.395  2133219.980      13.8      6.3        2  12.02   0.07   \n",
      "...              ...          ...       ...      ...      ...    ...    ...   \n",
      "1310864  6042836.790  2133274.126      13.8      6.3        2  10.34   0.09   \n",
      "1310865  6042836.696  2133275.155      13.8      6.3        2  10.35   0.03   \n",
      "1310866  6042836.602  2133276.185      13.8      6.3        2  10.35  -0.04   \n",
      "1310867  6042836.508  2133277.214      13.8      6.3        2  10.34  -0.07   \n",
      "1310868  6042836.414  2133278.244      13.8      6.3        2  10.34  -0.04   \n",
      "\n",
      "         Lane_ID  Preceeding  Following  Space_Hdwy  Time_Hdwy  \n",
      "1310788        3        2583       2538       31.51       2.62  \n",
      "1310789        3        2583       2538       31.21       2.59  \n",
      "1310790        3        2583       2538       30.90       2.57  \n",
      "1310791        3        2583       2538       30.60       2.55  \n",
      "1310792        3        2583       2538       30.30       2.52  \n",
      "...          ...         ...        ...         ...        ...  \n",
      "1310864        3        2583       2538       46.93       4.54  \n",
      "1310865        3        2583       2538       46.92       4.53  \n",
      "1310866        3        2583       2538       46.90       4.53  \n",
      "1310867        3        2583       2538       46.87       4.53  \n",
      "1310868        3        2583       2538       46.87       4.53  \n",
      "\n",
      "[81 rows x 18 columns]\n"
     ]
    }
   ],
   "source": [
    "import pandas as pd\n",
    "df = pd.read_csv(f\"data_i80/trajectories-0500pm-0515pm.csv\")\n",
    "df = df[(df['Vehicle_ID']==2513) & (df['Frame_ID']>=7282) & (df['Frame_ID']<=7362)]\n",
    "print(df)"
   ]
  },
  {
   "cell_type": "code",
   "execution_count": 9,
   "metadata": {},
   "outputs": [
    {
     "name": "stdout",
     "output_type": "stream",
     "text": [
      "7619664\n"
     ]
    }
   ],
   "source": [
    "ngsim_samples_file = \"ngsim_samples_list/ngsim_samples\"\n",
    "with open(ngsim_samples_file, \"rb\") as fp:  # Unpickling\n",
    "    ngsim_samples_list = pickle.load(fp)\n",
    "\n",
    "print(len(ngsim_samples_list))"
   ]
  },
  {
   "cell_type": "code",
   "execution_count": 11,
   "metadata": {},
   "outputs": [
    {
     "name": "stdout",
     "output_type": "stream",
     "text": [
      "[[1, 44, 2, 0], [1, 49, 2, 0], [1, 54, 2, 0, 13], [1, 59, 2, 0, 13], [1, 64, 2, 0, 13], [1, 69, 2, 0, 13, 10], [1, 74, 2, 0, 13, 10], [1, 79, 2, 0, 13, 10, 9], [1, 84, 2, 0, 13, 12, 10, 9], [1, 89, 2, 0, 13, 12, 10, 9], [1, 94, 2, 0, 13, 12, 10, 9], [1, 99, 2, 0, 13, 12, 10, 9], [1, 104, 2, 0, 13, 12, 10, 20, 9], [1, 109, 2, 0, 13, 12, 10, 20, 9], [1, 114, 2, 0, 13, 12, 10, 20, 9], [1, 119, 2, 0, 13, 12, 10, 20, 9], [1, 124, 2, 0, 13, 12, 10, 20, 9], [1, 129, 2, 0, 13, 12, 10, 20, 9], [1, 134, 2, 0, 13, 12, 10, 20, 9], [1, 139, 2, 0, 13, 12, 10, 20, 9]]\n"
     ]
    }
   ],
   "source": [
    "print(ngsim_samples_list[:100:5])"
   ]
  },
  {
   "cell_type": "code",
   "execution_count": 2,
   "metadata": {},
   "outputs": [
    {
     "name": "stdout",
     "output_type": "stream",
     "text": [
      "['/home/jiang/trajectory_pred/GNN-RNN-Based-Trajectory-Prediction-ITSC2021/data_i80/trajectories-0400pm-0415pm.csv', '/home/jiang/trajectory_pred/GNN-RNN-Based-Trajectory-Prediction-ITSC2021/data_i80/trajectories-0500pm-0515pm.csv', '/home/jiang/trajectory_pred/GNN-RNN-Based-Trajectory-Prediction-ITSC2021/data_i80/trajectories-0515pm-0530pm.csv', '/home/jiang/trajectory_pred/GNN-RNN-Based-Trajectory-Prediction-ITSC2021/data_us101/trajectories-0750am-0805am.csv', '/home/jiang/trajectory_pred/GNN-RNN-Based-Trajectory-Prediction-ITSC2021/data_us101/trajectories-0805am-0820am.csv', '/home/jiang/trajectory_pred/GNN-RNN-Based-Trajectory-Prediction-ITSC2021/data_us101/trajectories-0820am-0835am.csv']\n"
     ]
    }
   ],
   "source": [
    "import pandas as pd\n",
    "import numpy as np\n",
    "from plot_helper import find_files\n",
    "csvs = find_files(f\"/home/jiang/trajectory_pred/GNN-RNN-Based-Trajectory-Prediction-ITSC2021/data_i80\",suffix='csv')\n",
    "csvs += find_files(f\"/home/jiang/trajectory_pred/GNN-RNN-Based-Trajectory-Prediction-ITSC2021/data_us101\",suffix='csv')\n",
    "print(csvs)"
   ]
  },
  {
   "cell_type": "code",
   "execution_count": 5,
   "metadata": {},
   "outputs": [
    {
     "name": "stdout",
     "output_type": "stream",
     "text": [
      "0.07532491751366617 5.232584958593724 69.4668528199102\n"
     ]
    }
   ],
   "source": [
    "dfs = [pd.read_csv(csv) for csv in csvs]\n",
    "\n",
    "# mean_vel_x = \n",
    "total_cnt = 0\n",
    "vel_x = 0\n",
    "vel_y = 0\n",
    "for df in dfs:\n",
    "    total_cnt += len(df)\n",
    "    vel_x += np.abs(df['Local_X'].values[1:] - df['Local_X'].values[0:-1]).sum()\n",
    "    vel_y += np.abs(df['Local_Y'].values[1:] - df['Local_Y'].values[0:-1]).sum()\n",
    "    \n",
    "mean_vel_x = vel_x / total_cnt\n",
    "mean_vel_y = vel_y / total_cnt\n",
    "\n",
    "print(mean_vel_x, mean_vel_y,mean_vel_y/mean_vel_x)\n",
    "    \n",
    "    "
   ]
  },
  {
   "cell_type": "code",
   "execution_count": null,
   "metadata": {},
   "outputs": [],
   "source": []
  }
 ],
 "metadata": {
  "interpreter": {
   "hash": "3c942d3571ed5f04fca520b5ade2ad670b64a6a2c7541b299cf29b498855d4f8"
  },
  "kernelspec": {
   "display_name": "Python 3.6.9 ('GRTP': venv)",
   "language": "python",
   "name": "python3"
  },
  "language_info": {
   "codemirror_mode": {
    "name": "ipython",
    "version": 3
   },
   "file_extension": ".py",
   "mimetype": "text/x-python",
   "name": "python",
   "nbconvert_exporter": "python",
   "pygments_lexer": "ipython3",
   "version": "3.6.9"
  },
  "orig_nbformat": 4
 },
 "nbformat": 4,
 "nbformat_minor": 2
}
