{
 "cells": [
  {
   "cell_type": "code",
   "execution_count": 3,
   "metadata": {},
   "outputs": [
    {
     "name": "stdout",
     "output_type": "stream",
     "text": [
      "getting trajectories of vehicles...\n",
      "totally 2169 vehicles in dataset 1\n",
      "totally 2017 vehicles in dataset 2\n",
      "totally 1915 vehicles in dataset 3\n",
      "totally 2169 vehicles in dataset 4\n",
      "totally 1836 vehicles in dataset 5\n",
      "totally 1790 vehicles in dataset 6\n",
      "there are 171442 data pieces\n",
      "getting trajectories of vehicles...\n",
      "totally 2169 vehicles in dataset 1\n",
      "totally 2017 vehicles in dataset 2\n",
      "totally 1915 vehicles in dataset 3\n",
      "totally 2169 vehicles in dataset 4\n",
      "totally 1836 vehicles in dataset 5\n",
      "totally 1790 vehicles in dataset 6\n",
      "there are 19050 data pieces\n"
     ]
    }
   ],
   "source": [
    "from datetime import date, datetime\n",
    "import os\n",
    "import sys\n",
    "import argparse\n",
    "import random\n",
    "import pickle\n",
    "import pprint\n",
    "import numpy as np\n",
    "import torch\n",
    "import torch.nn as nn\n",
    "from torch.optim.lr_scheduler import MultiStepLR\n",
    "\n",
    "from utils import maskedMSE, maskedMSETest, weightMSE\n",
    "\n",
    "from torch_geometric.data import Data\n",
    "from torch_geometric.loader import DataLoader\n",
    "from sklearn.model_selection import train_test_split\n",
    "\n",
    "from stp_r_model import STP_R_Net\n",
    "from stp_g_model import STP_G_Net\n",
    "from stp_gr_model import STP_GR_Net\n",
    "# from mtp_gr_model import MTP_GR_Net\n",
    "\n",
    "from ngsim_dataset import NgsimDataset\n",
    "\n",
    "\n",
    "samples_train_file = \"ngsim_samples_list/ngsim_samples_train_downsample_40\"\n",
    "samples_val_file = \"ngsim_samples_list/ngsim_samples_val_downsample_40\"\n",
    "\n",
    "with open(samples_train_file, \"rb\") as fp:  # Unpickling\n",
    "    samples_train = pickle.load(fp)\n",
    "\n",
    "with open(samples_val_file, \"rb\") as fp:  # Unpickling\n",
    "    samples_val = pickle.load(fp)\n",
    "\n",
    "train_set = NgsimDataset(samples_train)\n",
    "val_set = NgsimDataset(samples_val)\n",
    "\n",
    "torch.set_num_threads(4)\n",
    "trainDataloader = DataLoader(train_set, batch_size=16, shuffle=False, num_workers=4, pin_memory=True)\n",
    "valDataloader = DataLoader(val_set, batch_size=16, shuffle=False, num_workers=4, pin_memory=True)\n"
   ]
  },
  {
   "cell_type": "code",
   "execution_count": 4,
   "metadata": {},
   "outputs": [
    {
     "name": "stdout",
     "output_type": "stream",
     "text": [
      "Data(x=[9, 31, 2], edge_index=[2, 18], y=[1, 50, 2], ds_id=[1], frm_id=3791, tgt_id=1288, lc=[1])\n",
      "Data(x=[9, 31, 2], edge_index=[2, 18], y=[1, 50, 2], ds_id=[1], frm_id=9379, tgt_id=2607, lc=[1])\n",
      "Data(x=[7, 31, 2], edge_index=[2, 14], y=[1, 50, 2], ds_id=[1], frm_id=5813, tgt_id=1960, lc=[1])\n",
      "Data(x=[9, 31, 2], edge_index=[2, 18], y=[1, 50, 2], ds_id=[1], frm_id=792, tgt_id=583, lc=[1])\n",
      "Data(x=[8, 31, 2], edge_index=[2, 16], y=[1, 50, 2], ds_id=[1], frm_id=2218, tgt_id=911, lc=[1])\n",
      "Data(x=[8, 31, 2], edge_index=[2, 16], y=[1, 50, 2], ds_id=[1], frm_id=3062, tgt_id=565, lc=[1])\n",
      "Data(x=[7, 31, 2], edge_index=[2, 14], y=[1, 50, 2], ds_id=[1], frm_id=2934, tgt_id=607, lc=[1])\n",
      "Data(x=[5, 31, 2], edge_index=[2, 10], y=[1, 50, 2], ds_id=[1], frm_id=3655, tgt_id=729, lc=[1])\n",
      "Data(x=[8, 31, 2], edge_index=[2, 16], y=[1, 50, 2], ds_id=[1], frm_id=7434, tgt_id=1994, lc=[1])\n"
     ]
    }
   ],
   "source": [
    "for i,data in enumerate(trainDataloader):\n",
    "    for j in range(len(data)):\n",
    "        data_j = data[j]\n",
    "        print(data_j)\n",
    "    break\n",
    "# data = trainDataloader[0]\n",
    "# for i in range(len(data)):\n",
    "#     target_index = torch.flatten((data.batch == i).nonzero()[0])\n",
    "    \n",
    "# print(target_index)\n",
    "# break\n",
    "    "
   ]
  },
  {
   "cell_type": "code",
   "execution_count": null,
   "metadata": {},
   "outputs": [],
   "source": []
  }
 ],
 "metadata": {
  "interpreter": {
   "hash": "3c942d3571ed5f04fca520b5ade2ad670b64a6a2c7541b299cf29b498855d4f8"
  },
  "kernelspec": {
   "display_name": "Python 3.6.9 ('GRTP': venv)",
   "language": "python",
   "name": "python3"
  },
  "language_info": {
   "codemirror_mode": {
    "name": "ipython",
    "version": 3
   },
   "file_extension": ".py",
   "mimetype": "text/x-python",
   "name": "python",
   "nbconvert_exporter": "python",
   "pygments_lexer": "ipython3",
   "version": "3.6.9"
  },
  "orig_nbformat": 4
 },
 "nbformat": 4,
 "nbformat_minor": 2
}
